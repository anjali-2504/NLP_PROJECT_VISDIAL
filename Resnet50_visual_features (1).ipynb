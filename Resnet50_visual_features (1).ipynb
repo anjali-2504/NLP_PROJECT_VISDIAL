{
 "cells": [
  {
   "cell_type": "code",
   "execution_count": 17,
   "metadata": {},
   "outputs": [
    {
     "name": "stderr",
     "output_type": "stream",
     "text": [
      "ERROR: Could not find a version that satisfies the requirement tensorflow.compat\n",
      "ERROR: No matching distribution found for tensorflow.compat\n"
     ]
    }
   ],
   "source": [
    "\n"
   ]
  },
  {
   "cell_type": "code",
   "execution_count": 8,
   "metadata": {},
   "outputs": [],
   "source": [
    "from tqdm import tqdm \n",
    "import tensorflow as tf \n",
    "from keras.applications.resnet import ResNet50\n",
    "from keras.layers import Flatten, Input\n",
    "from keras.models import Model\n",
    "from keras.preprocessing import image\n",
    "from keras.applications.imagenet_utils import preprocess_input\n",
    "import numpy as np\n",
    "#from google.cloud import storage \n",
    "from io import BytesIO\n",
    "import time\n",
    "#import cv2\n",
    "import pandas as pd\n",
    "start = time.time()"
   ]
  },
  {
   "cell_type": "code",
   "execution_count": 9,
   "metadata": {},
   "outputs": [],
   "source": [
    "model = ResNet50(weights='imagenet', pooling=max, include_top = True) "
   ]
  },
  {
   "cell_type": "code",
   "execution_count": 10,
   "metadata": {},
   "outputs": [],
   "source": [
    "ex_folders=[]\n",
    "iter=0\n",
    "df=pd.DataFrame()"
   ]
  },
  {
   "cell_type": "code",
   "execution_count": 11,
   "metadata": {},
   "outputs": [
    {
     "name": "stdout",
     "output_type": "stream",
     "text": [
      "1\n",
      "here\n",
      "2\n",
      "here\n",
      "3\n",
      "here\n",
      "4\n",
      "here\n",
      "5\n",
      "here\n",
      "6\n",
      "here\n",
      "7\n",
      "here\n",
      "8\n",
      "here\n",
      "9\n",
      "here\n",
      "10\n",
      "here\n",
      "11\n",
      "here\n",
      "12\n",
      "here\n",
      "13\n",
      "here\n",
      "14\n",
      "here\n",
      "15\n",
      "here\n",
      "16\n",
      "here\n",
      "17\n",
      "here\n",
      "18\n",
      "here\n",
      "19\n",
      "here\n",
      "20\n",
      "here\n",
      "21\n",
      "here\n",
      "22\n",
      "here\n",
      "23\n",
      "here\n",
      "24\n",
      "here\n",
      "25\n",
      "here\n",
      "26\n",
      "here\n",
      "27\n",
      "here\n",
      "28\n",
      "here\n",
      "29\n",
      "here\n",
      "30\n",
      "here\n",
      "31\n",
      "here\n",
      "32\n",
      "here\n",
      "33\n",
      "here\n",
      "34\n",
      "here\n",
      "35\n",
      "here\n",
      "36\n",
      "here\n",
      "37\n",
      "here\n",
      "38\n",
      "here\n",
      "39\n",
      "here\n",
      "40\n",
      "here\n",
      "41\n",
      "here\n",
      "42\n",
      "here\n",
      "43\n",
      "here\n",
      "44\n",
      "here\n",
      "45\n",
      "here\n",
      "46\n",
      "here\n",
      "47\n",
      "here\n",
      "48\n",
      "here\n",
      "49\n",
      "here\n",
      "50\n",
      "here\n",
      "51\n",
      "here\n",
      "52\n",
      "here\n",
      "53\n",
      "here\n",
      "54\n",
      "here\n",
      "55\n",
      "here\n",
      "56\n",
      "here\n",
      "57\n",
      "here\n",
      "58\n",
      "here\n",
      "59\n",
      "here\n",
      "60\n",
      "here\n",
      "61\n",
      "here\n",
      "62\n",
      "here\n",
      "63\n",
      "here\n",
      "64\n",
      "here\n"
     ]
    }
   ],
   "source": [
    "from PIL import Image\n",
    "\n",
    "for i in range(64):\n",
    "    iter=iter+1\n",
    "    try:\n",
    "        print(iter)\n",
    "        path='C:\\\\Users\\\\Pratham\\\\VisDial\\\\'+str(iter)+'\\\\news_img.jpg' \n",
    "        img = Image.open(path)\n",
    "        img = img.resize((224,224), Image.ANTIALIAS)\n",
    "        img = img.convert('RGB')\n",
    "        x = image.img_to_array(img)\n",
    "        print('here')\n",
    "        x = np.expand_dims(x, axis=0) \n",
    "        x = preprocess_input(x) \n",
    "        features = model.predict(x) \n",
    "        features_reduce = features.squeeze()\n",
    "        df[iter]=features_reduce\n",
    "    except:\n",
    "        ex_folders.append(iter)    \n",
    "        #print(\"-->\",len(ex_folders))\n",
    "        continue     \n",
    "\n",
    "#for i in range(9489):\n",
    "#    iter=iter+1\n",
    "#    try:\n",
    "#          print(iter)\n",
    "#          path='/home/puneet/code/Multimodal Feedback/data/'+str(iter)+'/news_img.jpg' \n",
    "#          #img = image.load_img(path, target_size=(224, 224)) \n",
    "#          x = image.img_to_array(img) \n",
    "#          x = np.expand_dims(x, axis=0) \n",
    "#          x = preprocess_input(x) \n",
    "#          features = model.predict(x) \n",
    "#          features_reduce = features.squeeze()\n",
    "#          df[iter]=features_reduce\n",
    "#    except:\n",
    "#            ex_folders.append(iter)\n",
    "#            #print(\"-->\",len(ex_folders))\n",
    "#            continue     \n",
    "\n",
    "#https://stackoverflow.com/questions/51923503/why-do-some-images-have-third-dimension-3-while-others-have-4\n",
    "#Some of the images were in RGB-A Format (224x224x4) Some were in RGB (224X224X3) Converted all to RGB."
   ]
  },
  {
   "cell_type": "code",
   "execution_count": 12,
   "metadata": {},
   "outputs": [
    {
     "data": {
      "text/plain": [
       "(1000,)"
      ]
     },
     "execution_count": 12,
     "metadata": {},
     "output_type": "execute_result"
    }
   ],
   "source": [
    "features_reduce.shape"
   ]
  },
  {
   "cell_type": "code",
   "execution_count": 13,
   "metadata": {},
   "outputs": [
    {
     "data": {
      "text/plain": [
       "(1000, 64)"
      ]
     },
     "execution_count": 13,
     "metadata": {},
     "output_type": "execute_result"
    }
   ],
   "source": [
    "df.shape"
   ]
  },
  {
   "cell_type": "code",
   "execution_count": 14,
   "metadata": {},
   "outputs": [],
   "source": [
    "filename=\"visual_features_resnet.csv\"\n",
    "df.to_csv(filename,index=False)"
   ]
  },
  {
   "cell_type": "code",
   "execution_count": 15,
   "metadata": {},
   "outputs": [
    {
     "data": {
      "text/plain": [
       "0"
      ]
     },
     "execution_count": 15,
     "metadata": {},
     "output_type": "execute_result"
    }
   ],
   "source": [
    "len(ex_folders)"
   ]
  },
  {
   "cell_type": "code",
   "execution_count": 16,
   "metadata": {
    "scrolled": true
   },
   "outputs": [
    {
     "data": {
      "text/plain": [
       "[]"
      ]
     },
     "execution_count": 16,
     "metadata": {},
     "output_type": "execute_result"
    }
   ],
   "source": [
    "#Excluded Folders\n",
    "ex_folders"
   ]
  },
  {
   "cell_type": "code",
   "execution_count": null,
   "metadata": {},
   "outputs": [],
   "source": []
  }
 ],
 "metadata": {
  "kernelspec": {
   "display_name": "Python 3 (ipykernel)",
   "language": "python",
   "name": "python3"
  },
  "language_info": {
   "codemirror_mode": {
    "name": "ipython",
    "version": 3
   },
   "file_extension": ".py",
   "mimetype": "text/x-python",
   "name": "python",
   "nbconvert_exporter": "python",
   "pygments_lexer": "ipython3",
   "version": "3.8.12"
  }
 },
 "nbformat": 4,
 "nbformat_minor": 2
}
